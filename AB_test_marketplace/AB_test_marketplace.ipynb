{
 "cells": [
  {
   "cell_type": "markdown",
   "id": "7ff6cd8a",
   "metadata": {},
   "source": [
    "# A/B - тест маркетплейса"
   ]
  },
  {
   "cell_type": "markdown",
   "id": "413739ad",
   "metadata": {},
   "source": [
    "Анализ a/b-теста для оценки влияния введения платных возвратов на количество сделанных заказов на маркетплейсе"
   ]
  },
  {
   "cell_type": "markdown",
   "id": "fa6b1dfc",
   "metadata": {},
   "source": [
    "## 1. для начала проанализируем датасет без разделения на сегменты"
   ]
  },
  {
   "cell_type": "markdown",
   "id": "e16f2eb3",
   "metadata": {},
   "source": [
    "Датасет состоит из следующих колонок:\n",
    "\n",
    "id – id клиента\n",
    "\n",
    "group - \n",
    "       \n",
    "       A – стоимость возврата одной вещи = 0 рублей, \n",
    "\n",
    "       B – стоимость возврата одной вещи = 50 рублей, \n",
    "       \n",
    "       C – стоимость возврата одной вещи = 75 рублей\n",
    "       \n",
    "orders – число заказов за месяц\n"
   ]
  },
  {
   "cell_type": "markdown",
   "id": "00cc58e4",
   "metadata": {},
   "source": [
    "В качестве метрики выберем число заказов"
   ]
  },
  {
   "cell_type": "code",
   "execution_count": 3,
   "id": "26cc0718",
   "metadata": {},
   "outputs": [],
   "source": [
    "import pandas as pd\n",
    "import numpy as np\n",
    "import seaborn as sns\n",
    "import matplotlib.pyplot as plt\n",
    "from scipy import stats as st\n",
    "from statsmodels.stats.multicomp import (pairwise_tukeyhsd, MultiComparison)\n",
    "from statsmodels.formula.api import ols\n",
    "from statsmodels.stats.anova import anova_lm\n",
    "from statsmodels.stats.multicomp import (pairwise_tukeyhsd, MultiComparison)\n",
    "import warnings\n",
    "import scipy as sp\n",
    "%matplotlib inline"
   ]
  },
  {
   "cell_type": "code",
   "execution_count": 4,
   "id": "ab09efb1",
   "metadata": {},
   "outputs": [],
   "source": [
    "warnings.filterwarnings('ignore')"
   ]
  },
  {
   "cell_type": "code",
   "execution_count": 5,
   "id": "c924ace4",
   "metadata": {},
   "outputs": [],
   "source": [
    "ab_test_return = pd.read_csv('ab_test_return_csv.csv')"
   ]
  },
  {
   "cell_type": "markdown",
   "id": "b4b4aaf1",
   "metadata": {},
   "source": [
    "Взглянем на датасет"
   ]
  },
  {
   "cell_type": "code",
   "execution_count": 6,
   "id": "44385f54",
   "metadata": {},
   "outputs": [
    {
     "data": {
      "text/html": [
       "<div>\n",
       "<style scoped>\n",
       "    .dataframe tbody tr th:only-of-type {\n",
       "        vertical-align: middle;\n",
       "    }\n",
       "\n",
       "    .dataframe tbody tr th {\n",
       "        vertical-align: top;\n",
       "    }\n",
       "\n",
       "    .dataframe thead th {\n",
       "        text-align: right;\n",
       "    }\n",
       "</style>\n",
       "<table border=\"1\" class=\"dataframe\">\n",
       "  <thead>\n",
       "    <tr style=\"text-align: right;\">\n",
       "      <th></th>\n",
       "      <th>id</th>\n",
       "      <th>group</th>\n",
       "      <th>orders</th>\n",
       "    </tr>\n",
       "  </thead>\n",
       "  <tbody>\n",
       "    <tr>\n",
       "      <th>0</th>\n",
       "      <td>689</td>\n",
       "      <td>A</td>\n",
       "      <td>137</td>\n",
       "    </tr>\n",
       "    <tr>\n",
       "      <th>1</th>\n",
       "      <td>3800</td>\n",
       "      <td>A</td>\n",
       "      <td>164</td>\n",
       "    </tr>\n",
       "    <tr>\n",
       "      <th>2</th>\n",
       "      <td>1520</td>\n",
       "      <td>A</td>\n",
       "      <td>149</td>\n",
       "    </tr>\n",
       "    <tr>\n",
       "      <th>3</th>\n",
       "      <td>11580</td>\n",
       "      <td>A</td>\n",
       "      <td>181</td>\n",
       "    </tr>\n",
       "    <tr>\n",
       "      <th>4</th>\n",
       "      <td>10474</td>\n",
       "      <td>A</td>\n",
       "      <td>132</td>\n",
       "    </tr>\n",
       "    <tr>\n",
       "      <th>...</th>\n",
       "      <td>...</td>\n",
       "      <td>...</td>\n",
       "      <td>...</td>\n",
       "    </tr>\n",
       "    <tr>\n",
       "      <th>11995</th>\n",
       "      <td>1973</td>\n",
       "      <td>C</td>\n",
       "      <td>95</td>\n",
       "    </tr>\n",
       "    <tr>\n",
       "      <th>11996</th>\n",
       "      <td>8620</td>\n",
       "      <td>C</td>\n",
       "      <td>72</td>\n",
       "    </tr>\n",
       "    <tr>\n",
       "      <th>11997</th>\n",
       "      <td>319</td>\n",
       "      <td>C</td>\n",
       "      <td>74</td>\n",
       "    </tr>\n",
       "    <tr>\n",
       "      <th>11998</th>\n",
       "      <td>8610</td>\n",
       "      <td>C</td>\n",
       "      <td>98</td>\n",
       "    </tr>\n",
       "    <tr>\n",
       "      <th>11999</th>\n",
       "      <td>4853</td>\n",
       "      <td>C</td>\n",
       "      <td>75</td>\n",
       "    </tr>\n",
       "  </tbody>\n",
       "</table>\n",
       "<p>12000 rows × 3 columns</p>\n",
       "</div>"
      ],
      "text/plain": [
       "          id group  orders\n",
       "0        689     A     137\n",
       "1       3800     A     164\n",
       "2       1520     A     149\n",
       "3      11580     A     181\n",
       "4      10474     A     132\n",
       "...      ...   ...     ...\n",
       "11995   1973     C      95\n",
       "11996   8620     C      72\n",
       "11997    319     C      74\n",
       "11998   8610     C      98\n",
       "11999   4853     C      75\n",
       "\n",
       "[12000 rows x 3 columns]"
      ]
     },
     "execution_count": 6,
     "metadata": {},
     "output_type": "execute_result"
    }
   ],
   "source": [
    "ab_test_return"
   ]
  },
  {
   "cell_type": "code",
   "execution_count": 7,
   "id": "6e51745e",
   "metadata": {},
   "outputs": [
    {
     "name": "stdout",
     "output_type": "stream",
     "text": [
      "<class 'pandas.core.frame.DataFrame'>\n",
      "RangeIndex: 12000 entries, 0 to 11999\n",
      "Data columns (total 3 columns):\n",
      " #   Column  Non-Null Count  Dtype \n",
      "---  ------  --------------  ----- \n",
      " 0   id      12000 non-null  int64 \n",
      " 1   group   12000 non-null  object\n",
      " 2   orders  12000 non-null  int64 \n",
      "dtypes: int64(2), object(1)\n",
      "memory usage: 281.4+ KB\n"
     ]
    }
   ],
   "source": [
    "ab_test_return.info()"
   ]
  },
  {
   "cell_type": "markdown",
   "id": "8bbb4bbb",
   "metadata": {},
   "source": [
    "В датасете 12000 строк и 3 колонки, пропущенных значений нет"
   ]
  },
  {
   "cell_type": "markdown",
   "id": "9db8b44f",
   "metadata": {},
   "source": [
    "Проверим дубликаты id клиентов"
   ]
  },
  {
   "cell_type": "code",
   "execution_count": 8,
   "id": "3a450d71",
   "metadata": {},
   "outputs": [
    {
     "data": {
      "text/plain": [
       "0"
      ]
     },
     "execution_count": 8,
     "metadata": {},
     "output_type": "execute_result"
    }
   ],
   "source": [
    "ab_test_return.duplicated(subset=['id']).sum()"
   ]
  },
  {
   "cell_type": "markdown",
   "id": "d3174649",
   "metadata": {},
   "source": [
    "Для того, что бы проверить гипотезу об отсутствии статистически значимых различий между группами, нам надо проверить предположения о нормальности распределения и однородности дисперсий. Воспользуемся тестом Шапиро-Уилка и тестом Левена соответственно "
   ]
  },
  {
   "cell_type": "code",
   "execution_count": 155,
   "id": "9190abe4",
   "metadata": {},
   "outputs": [
    {
     "data": {
      "text/plain": [
       "<AxesSubplot:xlabel='group', ylabel='orders'>"
      ]
     },
     "execution_count": 155,
     "metadata": {},
     "output_type": "execute_result"
    },
    {
     "data": {
      "image/png": "[encoded data removed]",
      "text/plain": [
       "<Figure size 1152x576 with 1 Axes>"
      ]
     },
     "metadata": {},
     "output_type": "display_data"
    }
   ],
   "source": [
    "plt.figure(figsize=(16, 8))\n",
    "sns.boxplot(x='group',y='orders', data=ab_test_return)"
   ]
  },
  {
   "cell_type": "markdown",
   "id": "b7ec4f83",
   "metadata": {},
   "source": [
    "На графике боксплота между группами заметны различия в средних, распределение нормальное, без явных выбросов и эксцессов"
   ]
  },
  {
   "cell_type": "code",
   "execution_count": 9,
   "id": "a0409a4e",
   "metadata": {},
   "outputs": [
    {
     "name": "stdout",
     "output_type": "stream",
     "text": [
      "p-value: 0.5845190277672558\n",
      "Дисперсии однородны\n"
     ]
    }
   ],
   "source": [
    "# Тест Левена\n",
    "# Уровень значимости = 0.05\n",
    "alpha = 0.05\n",
    "result = st.levene(ab_test_return[ab_test_return['group'] == 'A'].orders,\n",
    "                   ab_test_return[ab_test_return['group'] == 'B'].orders,\n",
    "                   ab_test_return[ab_test_return['group'] == 'C'].orders)\n",
    "\n",
    "print(f'p-value: {result.pvalue}')\n",
    "if result.pvalue >= alpha:\n",
    "    print('Дисперсии однородны')\n",
    "else:\n",
    "    print('Дисперсии не однородны')\n",
    "\n"
   ]
  },
  {
   "cell_type": "code",
   "execution_count": 10,
   "id": "d60ebbae",
   "metadata": {},
   "outputs": [
    {
     "name": "stdout",
     "output_type": "stream",
     "text": [
      "Группа A: данные распределены нормально\n",
      "Группа B: данные распределены нормально\n",
      "Группа C: данные распределены нормально\n"
     ]
    }
   ],
   "source": [
    "# тест Шапиро-Уилка\n",
    "group_names = ['A', 'B', 'C']\n",
    "\n",
    "alpha = 0.05\n",
    "\n",
    "for name in group_names:\n",
    "    result = st.shapiro(ab_test_return.query('group == @name').orders)\n",
    "    if result[1] >= alpha:\n",
    "        print(f'Группа {name}: данные распределены нормально')\n",
    "    else:\n",
    "        print(f'Группа {name}: данные распределены не нормально')\n"
   ]
  },
  {
   "cell_type": "markdown",
   "id": "b34196bf",
   "metadata": {},
   "source": [
    "Применим однофакторный дисперсионный анализ ANOVA, что бы определить, есть ли значимые отличия между группами"
   ]
  },
  {
   "cell_type": "code",
   "execution_count": 11,
   "id": "c8455fb0",
   "metadata": {},
   "outputs": [
    {
     "name": "stdout",
     "output_type": "stream",
     "text": [
      "F-value: 8594.0;\n",
      "p-value 0.0\n",
      "Отклоняем нулевую гипотезу\n"
     ]
    }
   ],
   "source": [
    "result = st.f_oneway(ab_test_return[ab_test_return['group'] == 'A'].orders,\n",
    "                   ab_test_return[ab_test_return['group'] == 'B'].orders,\n",
    "                   ab_test_return[ab_test_return['group'] == 'C'].orders)\n",
    "\n",
    "print(f'F-value: {round(result[0], 0)};\\np-value {result[1]}')\n",
    "\n",
    "if result.pvalue > 0.05:\n",
    "    print('Нулевая гипотеза верна. Между группами нет статистически значимых различий')\n",
    "else:\n",
    "    print('Отклоняем нулевую гипотезу')\n",
    "\n"
   ]
  },
  {
   "cell_type": "markdown",
   "id": "bfe7b514",
   "metadata": {},
   "source": [
    "Используем тест Тьюки для сравнения группы попарно, что бы определить какие именно группы различны\n"
   ]
  },
  {
   "cell_type": "code",
   "execution_count": 12,
   "id": "a5f68a13",
   "metadata": {},
   "outputs": [
    {
     "name": "stdout",
     "output_type": "stream",
     "text": [
      " Multiple Comparison of Means - Tukey HSD, FWER=0.05 \n",
      "=====================================================\n",
      "group1 group2 meandiff p-adj  lower    upper   reject\n",
      "-----------------------------------------------------\n",
      "     A      B -39.8318 0.001 -41.0973 -38.5662   True\n",
      "     A      C -70.5892 0.001 -71.8548 -69.3237   True\n",
      "     B      C -30.7575 0.001 -32.0231 -29.4919   True\n",
      "-----------------------------------------------------\n",
      "Figure(720x432)\n"
     ]
    },
    {
     "data": {
      "image/png": "[encoded data removed]",
      "text/plain": [
       "<Figure size 720x432 with 1 Axes>"
      ]
     },
     "metadata": {
      "needs_background": "light"
     },
     "output_type": "display_data"
    }
   ],
   "source": [
    "MultiComp = MultiComparison(ab_test_return.orders, ab_test_return.group)\n",
    "print(MultiComp.tukeyhsd().summary())\n",
    "print(MultiComp.tukeyhsd().plot_simultaneous())\n",
    "\n"
   ]
  },
  {
   "cell_type": "markdown",
   "id": "05cadd45",
   "metadata": {},
   "source": [
    "По результатам теста видно, что различие есть среди всех групп. \n",
    "Лучше всего на пользователей влияет отсутствие оплаты за возврат товара (группа А). Похоже, что людям не нравится когда их расходы увеличиваются)"
   ]
  },
  {
   "cell_type": "markdown",
   "id": "559af644",
   "metadata": {},
   "source": [
    "## 2. Анализ результатов, разделеные на сегменты"
   ]
  },
  {
   "cell_type": "markdown",
   "id": "8d2605a1",
   "metadata": {},
   "source": [
    "Проведем второе тестирование, но теперь будет две группы - контрольная и тестовая. В контрольной группе (A) клиенты будут возвращать товар бесплатно, а в тестовой (B) - оплата возврата будет стоить 50 рублей. Так же в качестве сегментов выделим пол клиента"
   ]
  },
  {
   "cell_type": "markdown",
   "id": "e1fc21bc",
   "metadata": {},
   "source": [
    "Датасет 4 столбцами:\n",
    "\n",
    "id – id клиента\n",
    "\n",
    "segment – сегментация по полу (male, female)\n",
    "\n",
    "group – 2 группы клиентов, с оплатой и без оплаты возврата товара (A, B)\n",
    "\n",
    "orders - число заказов за месяц"
   ]
  },
  {
   "cell_type": "code",
   "execution_count": 162,
   "id": "31bfd60c",
   "metadata": {},
   "outputs": [],
   "source": [
    "ab_test_segment = pd.read_csv('ab_test_segment_1.csv')"
   ]
  },
  {
   "cell_type": "code",
   "execution_count": 163,
   "id": "4dda2ff3",
   "metadata": {},
   "outputs": [
    {
     "data": {
      "text/html": [
       "<div>\n",
       "<style scoped>\n",
       "    .dataframe tbody tr th:only-of-type {\n",
       "        vertical-align: middle;\n",
       "    }\n",
       "\n",
       "    .dataframe tbody tr th {\n",
       "        vertical-align: top;\n",
       "    }\n",
       "\n",
       "    .dataframe thead th {\n",
       "        text-align: right;\n",
       "    }\n",
       "</style>\n",
       "<table border=\"1\" class=\"dataframe\">\n",
       "  <thead>\n",
       "    <tr style=\"text-align: right;\">\n",
       "      <th></th>\n",
       "      <th>id</th>\n",
       "      <th>group</th>\n",
       "      <th>orders</th>\n",
       "      <th>segment</th>\n",
       "    </tr>\n",
       "  </thead>\n",
       "  <tbody>\n",
       "    <tr>\n",
       "      <th>0</th>\n",
       "      <td>689</td>\n",
       "      <td>A</td>\n",
       "      <td>137</td>\n",
       "      <td>female</td>\n",
       "    </tr>\n",
       "    <tr>\n",
       "      <th>1</th>\n",
       "      <td>3800</td>\n",
       "      <td>A</td>\n",
       "      <td>164</td>\n",
       "      <td>female</td>\n",
       "    </tr>\n",
       "    <tr>\n",
       "      <th>2</th>\n",
       "      <td>1520</td>\n",
       "      <td>A</td>\n",
       "      <td>149</td>\n",
       "      <td>female</td>\n",
       "    </tr>\n",
       "    <tr>\n",
       "      <th>3</th>\n",
       "      <td>11580</td>\n",
       "      <td>A</td>\n",
       "      <td>181</td>\n",
       "      <td>female</td>\n",
       "    </tr>\n",
       "    <tr>\n",
       "      <th>4</th>\n",
       "      <td>10474</td>\n",
       "      <td>A</td>\n",
       "      <td>132</td>\n",
       "      <td>female</td>\n",
       "    </tr>\n",
       "    <tr>\n",
       "      <th>...</th>\n",
       "      <td>...</td>\n",
       "      <td>...</td>\n",
       "      <td>...</td>\n",
       "      <td>...</td>\n",
       "    </tr>\n",
       "    <tr>\n",
       "      <th>7995</th>\n",
       "      <td>8275</td>\n",
       "      <td>B</td>\n",
       "      <td>130</td>\n",
       "      <td>female</td>\n",
       "    </tr>\n",
       "    <tr>\n",
       "      <th>7996</th>\n",
       "      <td>6055</td>\n",
       "      <td>B</td>\n",
       "      <td>119</td>\n",
       "      <td>female</td>\n",
       "    </tr>\n",
       "    <tr>\n",
       "      <th>7997</th>\n",
       "      <td>8686</td>\n",
       "      <td>B</td>\n",
       "      <td>169</td>\n",
       "      <td>female</td>\n",
       "    </tr>\n",
       "    <tr>\n",
       "      <th>7998</th>\n",
       "      <td>4815</td>\n",
       "      <td>B</td>\n",
       "      <td>119</td>\n",
       "      <td>female</td>\n",
       "    </tr>\n",
       "    <tr>\n",
       "      <th>7999</th>\n",
       "      <td>6782</td>\n",
       "      <td>B</td>\n",
       "      <td>114</td>\n",
       "      <td>female</td>\n",
       "    </tr>\n",
       "  </tbody>\n",
       "</table>\n",
       "<p>8000 rows × 4 columns</p>\n",
       "</div>"
      ],
      "text/plain": [
       "         id group  orders segment\n",
       "0       689     A     137  female\n",
       "1      3800     A     164  female\n",
       "2      1520     A     149  female\n",
       "3     11580     A     181  female\n",
       "4     10474     A     132  female\n",
       "...     ...   ...     ...     ...\n",
       "7995   8275     B     130  female\n",
       "7996   6055     B     119  female\n",
       "7997   8686     B     169  female\n",
       "7998   4815     B     119  female\n",
       "7999   6782     B     114  female\n",
       "\n",
       "[8000 rows x 4 columns]"
      ]
     },
     "execution_count": 163,
     "metadata": {},
     "output_type": "execute_result"
    }
   ],
   "source": [
    "ab_test_segment"
   ]
  },
  {
   "cell_type": "markdown",
   "id": "aad84c70",
   "metadata": {},
   "source": [
    "Проверим датасет на пропуски, тип данных и дубликаты"
   ]
  },
  {
   "cell_type": "code",
   "execution_count": 165,
   "id": "27247ec8",
   "metadata": {},
   "outputs": [
    {
     "name": "stdout",
     "output_type": "stream",
     "text": [
      "<class 'pandas.core.frame.DataFrame'>\n",
      "RangeIndex: 8000 entries, 0 to 7999\n",
      "Data columns (total 4 columns):\n",
      " #   Column   Non-Null Count  Dtype \n",
      "---  ------   --------------  ----- \n",
      " 0   id       8000 non-null   int64 \n",
      " 1   group    8000 non-null   object\n",
      " 2   orders   8000 non-null   int64 \n",
      " 3   segment  8000 non-null   object\n",
      "dtypes: int64(2), object(2)\n",
      "memory usage: 250.1+ KB\n"
     ]
    }
   ],
   "source": [
    "ab_test_segment.info()"
   ]
  },
  {
   "cell_type": "code",
   "execution_count": 166,
   "id": "13c22c1d",
   "metadata": {},
   "outputs": [
    {
     "data": {
      "text/plain": [
       "0"
      ]
     },
     "execution_count": 166,
     "metadata": {},
     "output_type": "execute_result"
    }
   ],
   "source": [
    "ab_test_segment.duplicated().sum()"
   ]
  },
  {
   "cell_type": "markdown",
   "id": "b9063932",
   "metadata": {},
   "source": [
    "Наш датасет поделен на 2 развные части - группа А и группа В"
   ]
  },
  {
   "cell_type": "code",
   "execution_count": 168,
   "id": "0d2c4711",
   "metadata": {},
   "outputs": [
    {
     "data": {
      "text/plain": [
       "A    4000\n",
       "B    4000\n",
       "Name: group, dtype: int64"
      ]
     },
     "execution_count": 168,
     "metadata": {},
     "output_type": "execute_result"
    }
   ],
   "source": [
    "ab_test_segment.group.value_counts()"
   ]
  },
  {
   "cell_type": "code",
   "execution_count": 169,
   "id": "2a11e49a",
   "metadata": {},
   "outputs": [
    {
     "data": {
      "image/png": "[encoded data removed]",
      "text/plain": [
       "<Figure size 504x504 with 1 Axes>"
      ]
     },
     "metadata": {},
     "output_type": "display_data"
    }
   ],
   "source": [
    "# Построение круглой диаграммы\n",
    "plt.figure(figsize=(7, 7))\n",
    "pie_group = plt.pie(ab_test_segment.groupby('group').count().reset_index().orders, labels=['A', 'B'], colors=sns.color_palette('pastel')[3:5], autopct='%0.2f%%')\n"
   ]
  },
  {
   "cell_type": "markdown",
   "id": "0f553852",
   "metadata": {},
   "source": [
    "Посмотрим какие доли приходятся на каждый сегмент (пол)"
   ]
  },
  {
   "cell_type": "code",
   "execution_count": 170,
   "id": "d6183886",
   "metadata": {},
   "outputs": [
    {
     "data": {
      "text/plain": [
       "female    5700\n",
       "male      2300\n",
       "Name: segment, dtype: int64"
      ]
     },
     "execution_count": 170,
     "metadata": {},
     "output_type": "execute_result"
    }
   ],
   "source": [
    "ab_test_segment.segment.value_counts()"
   ]
  },
  {
   "cell_type": "code",
   "execution_count": 171,
   "id": "32aff25d",
   "metadata": {
    "scrolled": false
   },
   "outputs": [
    {
     "data": {
      "image/png": "[encoded data removed]",
      "text/plain": [
       "<Figure size 504x504 with 1 Axes>"
      ]
     },
     "metadata": {},
     "output_type": "display_data"
    }
   ],
   "source": [
    "# plotting two groups\n",
    "plt.figure(figsize=(7, 7))\n",
    "pie_segment = plt.pie(ab_test_segment.groupby('segment').count().reset_index().orders, labels=['female', 'male'], autopct='%0.2f%%', colors=sns.color_palette('pastel')[3:5])\n"
   ]
  },
  {
   "cell_type": "markdown",
   "id": "c49b9f88",
   "metadata": {},
   "source": [
    "Женщин большая часть - 71.25%,  мужчин меньше - всего 28.75 %, что вполне ожидаемо, так как покупки обычно занимают больше женцин"
   ]
  },
  {
   "cell_type": "markdown",
   "id": "eabd54e1",
   "metadata": {},
   "source": [
    "Построим распределение для тестовой и контрольной группы"
   ]
  },
  {
   "cell_type": "code",
   "execution_count": 135,
   "id": "ce9828d0",
   "metadata": {},
   "outputs": [
    {
     "data": {
      "text/plain": [
       "Text(0.5, 1.0, 'Test and Control Groups distributions')"
      ]
     },
     "execution_count": 135,
     "metadata": {},
     "output_type": "execute_result"
    },
    {
     "data": {
      "image/png": "[encoded data removed]",
      "text/plain": [
       "<Figure size 1050.62x504 with 1 Axes>"
      ]
     },
     "metadata": {},
     "output_type": "display_data"
    }
   ],
   "source": [
    "sns.set_style('whitegrid')\n",
    "sns.displot(data=ab_test_segment, x='orders', hue='group', height=7, aspect=2, palette=sns.color_palette('deep')[2:4], alpha =0.6 )\n",
    "plt.title('Test and Control Groups distributions')"
   ]
  },
  {
   "cell_type": "markdown",
   "id": "28e716d0",
   "metadata": {},
   "source": [
    "Распределения выглядят нормальными, а средние у двух групп различны"
   ]
  },
  {
   "cell_type": "markdown",
   "id": "5298a3c1",
   "metadata": {},
   "source": [
    "Построим распределение для сегментов"
   ]
  },
  {
   "cell_type": "code",
   "execution_count": 123,
   "id": "765cb340",
   "metadata": {},
   "outputs": [
    {
     "data": {
      "text/plain": [
       "Text(0.5, 1.0, 'Test and Control Groups distributions')"
      ]
     },
     "execution_count": 123,
     "metadata": {},
     "output_type": "execute_result"
    },
    {
     "data": {
      "image/png": "[encoded data removed]",
      "text/plain": [
       "<Figure size 1074.12x504 with 1 Axes>"
      ]
     },
     "metadata": {},
     "output_type": "display_data"
    }
   ],
   "source": [
    "sns.set_style('whitegrid')\n",
    "sns.displot(data=ab_test_segment, x='orders', hue='segment', height=7, aspect=2, palette=sns.color_palette('deep')[2:4], alpha =0.6 )\n",
    "plt.title('Test and Control Groups distributions')"
   ]
  },
  {
   "cell_type": "markdown",
   "id": "ec2d27d8",
   "metadata": {},
   "source": [
    "Средние различаются и по сегментам. Посчитаем средние, медиану и отклонение в сегментах"
   ]
  },
  {
   "cell_type": "code",
   "execution_count": 142,
   "id": "c1a4f5fb",
   "metadata": {},
   "outputs": [
    {
     "data": {
      "text/html": [
       "<div>\n",
       "<style scoped>\n",
       "    .dataframe tbody tr th:only-of-type {\n",
       "        vertical-align: middle;\n",
       "    }\n",
       "\n",
       "    .dataframe tbody tr th {\n",
       "        vertical-align: top;\n",
       "    }\n",
       "\n",
       "    .dataframe thead tr th {\n",
       "        text-align: left;\n",
       "    }\n",
       "\n",
       "    .dataframe thead tr:last-of-type th {\n",
       "        text-align: right;\n",
       "    }\n",
       "</style>\n",
       "<table border=\"1\" class=\"dataframe\">\n",
       "  <thead>\n",
       "    <tr>\n",
       "      <th></th>\n",
       "      <th></th>\n",
       "      <th colspan=\"3\" halign=\"left\">orders</th>\n",
       "    </tr>\n",
       "    <tr>\n",
       "      <th></th>\n",
       "      <th></th>\n",
       "      <th>mean</th>\n",
       "      <th>median</th>\n",
       "      <th>std</th>\n",
       "    </tr>\n",
       "    <tr>\n",
       "      <th>group</th>\n",
       "      <th>segment</th>\n",
       "      <th></th>\n",
       "      <th></th>\n",
       "      <th></th>\n",
       "    </tr>\n",
       "  </thead>\n",
       "  <tbody>\n",
       "    <tr>\n",
       "      <th rowspan=\"2\" valign=\"top\">A</th>\n",
       "      <th>female</th>\n",
       "      <td>149.475200</td>\n",
       "      <td>150.000000</td>\n",
       "      <td>24.193014</td>\n",
       "    </tr>\n",
       "    <tr>\n",
       "      <th>male</th>\n",
       "      <td>149.426000</td>\n",
       "      <td>149.000000</td>\n",
       "      <td>23.319013</td>\n",
       "    </tr>\n",
       "    <tr>\n",
       "      <th rowspan=\"2\" valign=\"top\">B</th>\n",
       "      <th>female</th>\n",
       "      <td>109.667500</td>\n",
       "      <td>110.000000</td>\n",
       "      <td>24.511637</td>\n",
       "    </tr>\n",
       "    <tr>\n",
       "      <th>male</th>\n",
       "      <td>140.841327</td>\n",
       "      <td>141.094059</td>\n",
       "      <td>19.647060</td>\n",
       "    </tr>\n",
       "  </tbody>\n",
       "</table>\n",
       "</div>"
      ],
      "text/plain": [
       "                   orders                       \n",
       "                     mean      median        std\n",
       "group segment                                   \n",
       "A     female   149.475200  150.000000  24.193014\n",
       "      male     149.426000  149.000000  23.319013\n",
       "B     female   109.667500  110.000000  24.511637\n",
       "      male     140.841327  141.094059  19.647060"
      ]
     },
     "execution_count": 142,
     "metadata": {},
     "output_type": "execute_result"
    }
   ],
   "source": [
    "ab_test_segment.groupby(['group', 'segment']) \\\n",
    "    .agg({'orders': ['mean', 'median', 'std']})"
   ]
  },
  {
   "cell_type": "markdown",
   "id": "2da6f1e6",
   "metadata": {},
   "source": [
    "В группе А, хоть мужчин и меньше, количество заказов у них примерно такое же как и у женщин. В группе В картина меняется, у женщин среднее количество заказов падает на 30 единиц, в то время как у мужчин снижается всего до 141 заказа "
   ]
  },
  {
   "cell_type": "markdown",
   "id": "28a860b2",
   "metadata": {},
   "source": [
    "Теперь используем двухфакторный дисперсионный анализ, что бы понять как пол клиента, плата за возврат и их взаимодействие влияют на количество заказов. Так как наши данные сбалансированны, можем выбрать любой тип рассчета квадратов (typ)"
   ]
  },
  {
   "cell_type": "code",
   "execution_count": 183,
   "id": "dab75167",
   "metadata": {},
   "outputs": [],
   "source": [
    "formula = 'ab_test_segment.orders ~ ab_test_segment.segment + ab_test_segment.group + ab_test_segment.segment:ab_test_segment.group'\n",
    "model = ols(formula, ab_test_segment).fit()\n",
    "aov_table = anova_lm(model, typ=1)"
   ]
  },
  {
   "cell_type": "code",
   "execution_count": 184,
   "id": "66a7d6ba",
   "metadata": {},
   "outputs": [
    {
     "data": {
      "text/html": [
       "<div>\n",
       "<style scoped>\n",
       "    .dataframe tbody tr th:only-of-type {\n",
       "        vertical-align: middle;\n",
       "    }\n",
       "\n",
       "    .dataframe tbody tr th {\n",
       "        vertical-align: top;\n",
       "    }\n",
       "\n",
       "    .dataframe thead th {\n",
       "        text-align: right;\n",
       "    }\n",
       "</style>\n",
       "<table border=\"1\" class=\"dataframe\">\n",
       "  <thead>\n",
       "    <tr style=\"text-align: right;\">\n",
       "      <th></th>\n",
       "      <th>df</th>\n",
       "      <th>sum_sq</th>\n",
       "      <th>mean_sq</th>\n",
       "      <th>F</th>\n",
       "      <th>PR(&gt;F)</th>\n",
       "    </tr>\n",
       "  </thead>\n",
       "  <tbody>\n",
       "    <tr>\n",
       "      <th>ab_test_segment.segment</th>\n",
       "      <td>1.0</td>\n",
       "      <td>6.665719e+05</td>\n",
       "      <td>6.665719e+05</td>\n",
       "      <td>1059.308404</td>\n",
       "      <td>2.524877e-218</td>\n",
       "    </tr>\n",
       "    <tr>\n",
       "      <th>ab_test_segment.group</th>\n",
       "      <td>1.0</td>\n",
       "      <td>1.812165e+06</td>\n",
       "      <td>1.812165e+06</td>\n",
       "      <td>2879.871892</td>\n",
       "      <td>0.000000e+00</td>\n",
       "    </tr>\n",
       "    <tr>\n",
       "      <th>ab_test_segment.segment:ab_test_segment.group</th>\n",
       "      <td>1.0</td>\n",
       "      <td>4.314892e+05</td>\n",
       "      <td>4.314892e+05</td>\n",
       "      <td>685.717653</td>\n",
       "      <td>4.375892e-145</td>\n",
       "    </tr>\n",
       "    <tr>\n",
       "      <th>Residual</th>\n",
       "      <td>7996.0</td>\n",
       "      <td>5.031498e+06</td>\n",
       "      <td>6.292519e+02</td>\n",
       "      <td>NaN</td>\n",
       "      <td>NaN</td>\n",
       "    </tr>\n",
       "  </tbody>\n",
       "</table>\n",
       "</div>"
      ],
      "text/plain": [
       "                                                   df        sum_sq  \\\n",
       "ab_test_segment.segment                           1.0  6.665719e+05   \n",
       "ab_test_segment.group                             1.0  1.812165e+06   \n",
       "ab_test_segment.segment:ab_test_segment.group     1.0  4.314892e+05   \n",
       "Residual                                       7996.0  5.031498e+06   \n",
       "\n",
       "                                                    mean_sq            F  \\\n",
       "ab_test_segment.segment                        6.665719e+05  1059.308404   \n",
       "ab_test_segment.group                          1.812165e+06  2879.871892   \n",
       "ab_test_segment.segment:ab_test_segment.group  4.314892e+05   685.717653   \n",
       "Residual                                       6.292519e+02          NaN   \n",
       "\n",
       "                                                      PR(>F)  \n",
       "ab_test_segment.segment                        2.524877e-218  \n",
       "ab_test_segment.group                           0.000000e+00  \n",
       "ab_test_segment.segment:ab_test_segment.group  4.375892e-145  \n",
       "Residual                                                 NaN  "
      ]
     },
     "execution_count": 184,
     "metadata": {},
     "output_type": "execute_result"
    }
   ],
   "source": [
    "aov_table"
   ]
  },
  {
   "cell_type": "markdown",
   "id": "67b33c85",
   "metadata": {},
   "source": [
    "Результаты теста говорят о том, что все факторы (пол, группа и их взаимодействие) имеют статистически значимое влияние(p-value <0.05)"
   ]
  },
  {
   "cell_type": "markdown",
   "id": "d8ce9d75",
   "metadata": {},
   "source": [
    "Используем тест Тьюки, что бы посмотреть в каких конкретно парах взаимодействие значимо"
   ]
  },
  {
   "cell_type": "code",
   "execution_count": 185,
   "id": "74e74c75",
   "metadata": {},
   "outputs": [],
   "source": [
    "ab_test_segment['comb'] = ab_test_segment['group'] + ' \\ ' + ab_test_segment['segment']"
   ]
  },
  {
   "cell_type": "code",
   "execution_count": 186,
   "id": "f619a526",
   "metadata": {},
   "outputs": [
    {
     "data": {
      "text/html": [
       "<div>\n",
       "<style scoped>\n",
       "    .dataframe tbody tr th:only-of-type {\n",
       "        vertical-align: middle;\n",
       "    }\n",
       "\n",
       "    .dataframe tbody tr th {\n",
       "        vertical-align: top;\n",
       "    }\n",
       "\n",
       "    .dataframe thead th {\n",
       "        text-align: right;\n",
       "    }\n",
       "</style>\n",
       "<table border=\"1\" class=\"dataframe\">\n",
       "  <thead>\n",
       "    <tr style=\"text-align: right;\">\n",
       "      <th></th>\n",
       "      <th>id</th>\n",
       "      <th>group</th>\n",
       "      <th>orders</th>\n",
       "      <th>segment</th>\n",
       "      <th>comb</th>\n",
       "    </tr>\n",
       "  </thead>\n",
       "  <tbody>\n",
       "    <tr>\n",
       "      <th>0</th>\n",
       "      <td>689</td>\n",
       "      <td>A</td>\n",
       "      <td>137</td>\n",
       "      <td>female</td>\n",
       "      <td>A \\ female</td>\n",
       "    </tr>\n",
       "    <tr>\n",
       "      <th>1</th>\n",
       "      <td>3800</td>\n",
       "      <td>A</td>\n",
       "      <td>164</td>\n",
       "      <td>female</td>\n",
       "      <td>A \\ female</td>\n",
       "    </tr>\n",
       "    <tr>\n",
       "      <th>2</th>\n",
       "      <td>1520</td>\n",
       "      <td>A</td>\n",
       "      <td>149</td>\n",
       "      <td>female</td>\n",
       "      <td>A \\ female</td>\n",
       "    </tr>\n",
       "    <tr>\n",
       "      <th>3</th>\n",
       "      <td>11580</td>\n",
       "      <td>A</td>\n",
       "      <td>181</td>\n",
       "      <td>female</td>\n",
       "      <td>A \\ female</td>\n",
       "    </tr>\n",
       "    <tr>\n",
       "      <th>4</th>\n",
       "      <td>10474</td>\n",
       "      <td>A</td>\n",
       "      <td>132</td>\n",
       "      <td>female</td>\n",
       "      <td>A \\ female</td>\n",
       "    </tr>\n",
       "    <tr>\n",
       "      <th>...</th>\n",
       "      <td>...</td>\n",
       "      <td>...</td>\n",
       "      <td>...</td>\n",
       "      <td>...</td>\n",
       "      <td>...</td>\n",
       "    </tr>\n",
       "    <tr>\n",
       "      <th>7995</th>\n",
       "      <td>8275</td>\n",
       "      <td>B</td>\n",
       "      <td>130</td>\n",
       "      <td>female</td>\n",
       "      <td>B \\ female</td>\n",
       "    </tr>\n",
       "    <tr>\n",
       "      <th>7996</th>\n",
       "      <td>6055</td>\n",
       "      <td>B</td>\n",
       "      <td>119</td>\n",
       "      <td>female</td>\n",
       "      <td>B \\ female</td>\n",
       "    </tr>\n",
       "    <tr>\n",
       "      <th>7997</th>\n",
       "      <td>8686</td>\n",
       "      <td>B</td>\n",
       "      <td>169</td>\n",
       "      <td>female</td>\n",
       "      <td>B \\ female</td>\n",
       "    </tr>\n",
       "    <tr>\n",
       "      <th>7998</th>\n",
       "      <td>4815</td>\n",
       "      <td>B</td>\n",
       "      <td>119</td>\n",
       "      <td>female</td>\n",
       "      <td>B \\ female</td>\n",
       "    </tr>\n",
       "    <tr>\n",
       "      <th>7999</th>\n",
       "      <td>6782</td>\n",
       "      <td>B</td>\n",
       "      <td>114</td>\n",
       "      <td>female</td>\n",
       "      <td>B \\ female</td>\n",
       "    </tr>\n",
       "  </tbody>\n",
       "</table>\n",
       "<p>8000 rows × 5 columns</p>\n",
       "</div>"
      ],
      "text/plain": [
       "         id group  orders segment        comb\n",
       "0       689     A     137  female  A \\ female\n",
       "1      3800     A     164  female  A \\ female\n",
       "2      1520     A     149  female  A \\ female\n",
       "3     11580     A     181  female  A \\ female\n",
       "4     10474     A     132  female  A \\ female\n",
       "...     ...   ...     ...     ...         ...\n",
       "7995   8275     B     130  female  B \\ female\n",
       "7996   6055     B     119  female  B \\ female\n",
       "7997   8686     B     169  female  B \\ female\n",
       "7998   4815     B     119  female  B \\ female\n",
       "7999   6782     B     114  female  B \\ female\n",
       "\n",
       "[8000 rows x 5 columns]"
      ]
     },
     "execution_count": 186,
     "metadata": {},
     "output_type": "execute_result"
    }
   ],
   "source": [
    "ab_test_segment"
   ]
  },
  {
   "cell_type": "code",
   "execution_count": 193,
   "id": "451c0b6e",
   "metadata": {},
   "outputs": [
    {
     "name": "stdout",
     "output_type": "stream",
     "text": [
      "     Multiple Comparison of Means - Tukey HSD, FWER=0.05     \n",
      "=============================================================\n",
      "  group1     group2   meandiff p-adj  lower    upper   reject\n",
      "-------------------------------------------------------------\n",
      "A \\ female   A \\ male  -0.0492   0.9  -2.1544    2.056  False\n",
      "A \\ female B \\ female -39.8077 0.001 -41.5282 -38.0872   True\n",
      "A \\ female   B \\ male  -6.1752 0.001  -8.7935  -3.5569   True\n",
      "  A \\ male B \\ female -39.7585 0.001 -41.7755 -37.7415   True\n",
      "  A \\ male   B \\ male   -6.126 0.001  -8.9479  -3.3041   True\n",
      "B \\ female   B \\ male  33.6325 0.001  31.0846  36.1804   True\n",
      "-------------------------------------------------------------\n",
      "Figure(720x432)\n"
     ]
    },
    {
     "data": {
      "image/png": "[encoded data removed]",
      "text/plain": [
       "<Figure size 720x432 with 1 Axes>"
      ]
     },
     "metadata": {},
     "output_type": "display_data"
    }
   ],
   "source": [
    "# Тьюки тест\n",
    "MultiComp = MultiComparison(ab_test_segment.orders, ab_test_segment.comb)\n",
    "print(MultiComp.tukeyhsd().summary())\n",
    "print(MultiComp.tukeyhsd().plot_simultaneous())"
   ]
  },
  {
   "cell_type": "code",
   "execution_count": 192,
   "id": "c9b63ebf",
   "metadata": {},
   "outputs": [
    {
     "data": {
      "text/plain": [
       "Text(0.5, 1.0, 'Influence of factors')"
      ]
     },
     "execution_count": 192,
     "metadata": {},
     "output_type": "execute_result"
    },
    {
     "data": {
      "image/png": "[encoded data removed]",
      "text/plain": [
       "<Figure size 1152x576 with 1 Axes>"
      ]
     },
     "metadata": {},
     "output_type": "display_data"
    }
   ],
   "source": [
    "plt.figure(figsize=(16, 8))\n",
    "sns.pointplot(x='group', y='orders', hue='segment', data=ab_test_segment, capsize=.1)\n",
    "plt.title('Influence of factors')\n"
   ]
  },
  {
   "cell_type": "markdown",
   "id": "0346e432",
   "metadata": {},
   "source": [
    "По результатам теста можно заключить, что у мужчин и женщин в контрольной группе разницы в заказах нет. Зато когда мы вводим оплату за возврат товара 50 рублей, среднее количество покупок у женщин сразу падает, в то время как для мужчин это не слишком весомый фактор для отказа от покупки и количество заказов падает не значительно, хоть и статистически значимо. Для дальнейшего анализа можно пробовать менять размер оплаты за возврат по сегментам, или работать с результатами, которые получили.\n",
    "\n",
    "Примечателен тот факт, что без сегментирования мы сравнивали среднестатистического покупателя в группах и не имели понятия, что мужчины более лояльны к платным возвратам. Возможно дальнеший анализ различных сегментов раскроет еще больше полезных инсайтов, с помощью которых можно повысить доходность маркетплейса и уменьшить отток клиентов"
   ]
  }
 ],
 "metadata": {
  "kernelspec": {
   "display_name": "Python 3 (ipykernel)",
   "language": "python",
   "name": "python3"
  },
  "language_info": {
   "codemirror_mode": {
    "name": "ipython",
    "version": 3
   },
   "file_extension": ".py",
   "mimetype": "text/x-python",
   "name": "python",
   "nbconvert_exporter": "python",
   "pygments_lexer": "ipython3",
   "version": "3.9.7"
  }
 },
 "nbformat": 4,
 "nbformat_minor": 5
}
